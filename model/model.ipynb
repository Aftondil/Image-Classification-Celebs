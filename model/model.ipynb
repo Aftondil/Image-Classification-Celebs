{
 "cells": [
  {
   "cell_type": "code",
   "execution_count": 25,
   "id": "initial_id",
   "metadata": {
    "collapsed": true,
    "ExecuteTime": {
     "end_time": "2024-03-18T11:04:10.240367Z",
     "start_time": "2024-03-18T11:04:10.231856Z"
    }
   },
   "outputs": [],
   "source": [
    "import numpy as np\n",
    "import cv2\n",
    "import os\n",
    "import pywt\n",
    "import matplotlib.pyplot as plt\n",
    "%matplotlib inline"
   ]
  },
  {
   "cell_type": "code",
   "outputs": [],
   "source": [
    "eye_cascade = cv2.CascadeClassifier('./cascades/haarcascade_eye.xml')\n",
    "face_cascade = cv2.CascadeClassifier('./cascades/haarcascade_frontalface_default.xml')"
   ],
   "metadata": {
    "collapsed": false,
    "ExecuteTime": {
     "end_time": "2024-03-18T07:21:46.041301Z",
     "start_time": "2024-03-18T07:21:45.995415Z"
    }
   },
   "id": "877f295d06c1b84e",
   "execution_count": 2
  },
  {
   "cell_type": "code",
   "outputs": [],
   "source": [
    "def get_cropped_image_if2eyes(image_path):\n",
    "    img = cv2.imread(image_path)\n",
    "    if img is None:\n",
    "        print(f\"Error: Unable to load image '{image_path}'\")\n",
    "        return None\n",
    "    gray_img = cv2.cvtColor(img, cv2.COLOR_BGR2GRAY)\n",
    "    faces = face_cascade.detectMultiScale(gray_img, 1.3, 5)\n",
    "    for x, y, w, h in faces:\n",
    "        roi_gray = gray_img[y:y + h, x:x + w]\n",
    "        roi_color = img[y:y + h, x:x + w]\n",
    "        eyes = eye_cascade.detectMultiScale(roi_gray)\n",
    "        if len(eyes) >= 2:\n",
    "            return roi_color\n",
    "    "
   ],
   "metadata": {
    "collapsed": false,
    "ExecuteTime": {
     "end_time": "2024-03-18T07:26:00.851450Z",
     "start_time": "2024-03-18T07:26:00.834383Z"
    }
   },
   "id": "b6caa4322cb920ea",
   "execution_count": 9
  },
  {
   "cell_type": "code",
   "outputs": [],
   "source": [
    "db_path = './dataset'\n",
    "db_cropped_path = './dataset\\\\cropped'\n"
   ],
   "metadata": {
    "collapsed": false,
    "ExecuteTime": {
     "end_time": "2024-03-18T07:21:46.071935Z",
     "start_time": "2024-03-18T07:21:46.057965Z"
    }
   },
   "id": "7c9b26c000c09a8d",
   "execution_count": 4
  },
  {
   "cell_type": "code",
   "outputs": [
    {
     "data": {
      "text/plain": "['./dataset\\\\cristiano ronaldo',\n './dataset\\\\jason statham',\n './dataset\\\\john wick',\n './dataset\\\\leonardo dicaprio',\n './dataset\\\\vin diesel']"
     },
     "execution_count": 6,
     "metadata": {},
     "output_type": "execute_result"
    }
   ],
   "source": [
    "img_dirs = []\n",
    "for entry in os.scandir(db_path):\n",
    "    if entry.is_dir():\n",
    "        img_dirs.append(entry.path)\n",
    "img_dirs        "
   ],
   "metadata": {
    "collapsed": false,
    "ExecuteTime": {
     "end_time": "2024-03-18T07:22:08.823459Z",
     "start_time": "2024-03-18T07:22:08.808246Z"
    }
   },
   "id": "c92375c4c3aa14b2",
   "execution_count": 6
  },
  {
   "cell_type": "code",
   "outputs": [
    {
     "name": "stdout",
     "output_type": "stream",
     "text": [
      "cristiano ronaldo\n",
      "Folder with path ./dataset\\cropped\\cristiano ronaldo has been created\n",
      "jason statham\n",
      "Folder with path ./dataset\\cropped\\jason statham has been created\n",
      "Error: Unable to load image './dataset\\jason statham\\jason-statham-attends-the-press-conference-of-director-f-gary-grays-film-the-fate-of-the-furious-on-march-23-2017-in-beijing-china-photo-by-vcg_vcg-via-getty-images-square.jpg'\n",
      "john wick\n",
      "Folder with path ./dataset\\cropped\\john wick has been created\n",
      "Error: Unable to load image './dataset\\john wick\\Reunião_com_o_ator_norte-americano_Keanu_Reeves_(46806576944)_(cropped).jpg'\n",
      "leonardo dicaprio\n",
      "Folder with path ./dataset\\cropped\\leonardo dicaprio has been created\n",
      "vin diesel\n",
      "Folder with path ./dataset\\cropped\\vin diesel has been created\n"
     ]
    }
   ],
   "source": [
    "cropped_image_dirs = []\n",
    "cropped_file_name_dict = {}\n",
    "\n",
    "for img_dir in img_dirs:\n",
    "    count = 1\n",
    "    celeb_name = str(img_dir).split('\\\\')[-1]\n",
    "    cropped_file_name_dict[celeb_name] = []\n",
    "    print(celeb_name)\n",
    "    for img in os.scandir(img_dir):\n",
    "        if img is None:\n",
    "            print(1)\n",
    "        roi_color = get_cropped_image_if2eyes(img.path)\n",
    "        # roi_color = \n",
    "        if roi_color is not None:\n",
    "            cropped_folder = db_cropped_path + '\\\\' + celeb_name\n",
    "            if not os.path.exists(cropped_folder):\n",
    "                os.mkdir(cropped_folder)\n",
    "                cropped_image_dirs.append(cropped_folder)\n",
    "                print(f\"Folder with path {cropped_folder } has been created\")\n",
    "\n",
    "            cropped_image_name = f\"{celeb_name}_{str(count)}.jpg\"\n",
    "            cropped_file_path =  cropped_folder + '\\\\' + cropped_image_name\n",
    "\n",
    "            cv2.imwrite(cropped_file_path, roi_color)\n",
    "            cropped_file_name_dict[celeb_name].append(cropped_file_path)\n",
    "            count += 1\n",
    "                "
   ],
   "metadata": {
    "collapsed": false,
    "ExecuteTime": {
     "end_time": "2024-03-18T07:26:45.452009Z",
     "start_time": "2024-03-18T07:26:12.339615Z"
    }
   },
   "id": "4e4745f824198c75",
   "execution_count": 10
  },
  {
   "cell_type": "code",
   "outputs": [],
   "source": [
    "def w2d(img, mode='db1', level=1):\n",
    "    imArray = cv2.cvtColor(img, cv2.COLOR_RGB2GRAY)\n",
    "    imArray = np.float32(imArray)\n",
    "    imArray /= 255\n",
    "    coeff = pywt.wavedec2(imArray, mode, level)\n",
    "    coeff_H = list(coeff)\n",
    "    coeff_H[0] *= 0\n",
    "    imArray_H = pywt.waverec2(coeff_H, mode)\n",
    "    imArray_H *= 255\n",
    "    imArray_H = np.uint8(imArray_H)\n",
    "    return imArray_H\n"
   ],
   "metadata": {
    "collapsed": false,
    "ExecuteTime": {
     "end_time": "2024-03-18T10:43:12.752632Z",
     "start_time": "2024-03-18T10:43:12.741898Z"
    }
   },
   "id": "15efc754fdd27939",
   "execution_count": 17
  },
  {
   "cell_type": "code",
   "outputs": [
    {
     "data": {
      "text/plain": "{'cristiano ronaldo': 0,\n 'jason statham': 1,\n 'john wick': 2,\n 'leonardo dicaprio': 3,\n 'vin diesel': 4}"
     },
     "execution_count": 19,
     "metadata": {},
     "output_type": "execute_result"
    }
   ],
   "source": [
    "class_dict = {}\n",
    "for a, b in enumerate(cropped_file_name_dict.keys()):\n",
    "    class_dict[b] = a\n",
    "class_dict    "
   ],
   "metadata": {
    "collapsed": false,
    "ExecuteTime": {
     "end_time": "2024-03-18T10:50:28.235551Z",
     "start_time": "2024-03-18T10:50:28.227053Z"
    }
   },
   "id": "ddfedc1caea53881",
   "execution_count": 19
  },
  {
   "cell_type": "code",
   "outputs": [],
   "source": [
    "X = []\n",
    "y = []\n",
    "\n",
    "for cel_name, images in cropped_file_name_dict.items():\n",
    "    for image in images:\n",
    "        img = cv2.imread(image)\n",
    "        if img is None:\n",
    "            continue\n",
    "        scaled_raw = cv2.resize(img, (32, 32))\n",
    "        har_img = w2d(img, level=5)\n",
    "        scaled_raw_har = cv2.resize(har_img, (32, 32))\n",
    "        combined_image = np.vstack((scaled_raw.reshape(32*32*3, 1), scaled_raw_har.reshape(32*32, 1)))\n",
    "        X.append(combined_image)\n",
    "        y.append(class_dict[cel_name])"
   ],
   "metadata": {
    "collapsed": false,
    "ExecuteTime": {
     "end_time": "2024-03-18T10:57:49.061800Z",
     "start_time": "2024-03-18T10:57:46.430900Z"
    }
   },
   "id": "fe2c8747429de98",
   "execution_count": 20
  },
  {
   "cell_type": "code",
   "outputs": [
    {
     "data": {
      "text/plain": "(268, 4096)"
     },
     "execution_count": 27,
     "metadata": {},
     "output_type": "execute_result"
    }
   ],
   "source": [
    "X = np.array(X).reshape(len(X), 4096).astype(float)\n",
    "X.shape"
   ],
   "metadata": {
    "collapsed": false,
    "ExecuteTime": {
     "end_time": "2024-03-18T11:09:55.191413Z",
     "start_time": "2024-03-18T11:09:55.173903Z"
    }
   },
   "id": "e163f889fe410577",
   "execution_count": 27
  },
  {
   "cell_type": "code",
   "outputs": [],
   "source": [
    "from sklearn import svm\n",
    "from sklearn.svm import SVC\n",
    "from sklearn.preprocessing import StandardScaler\n",
    "from sklearn.model_selection import train_test_split, GridSearchCV\n",
    "from sklearn.pipeline import  Pipeline, make_pipeline\n",
    "from sklearn.metrics import classification_report \n",
    "from sklearn.ensemble import RandomForestClassifier\n",
    "from sklearn.linear_model import LogisticRegression\n",
    "import pandas as pd"
   ],
   "metadata": {
    "collapsed": false,
    "ExecuteTime": {
     "end_time": "2024-03-18T11:29:40.865366Z",
     "start_time": "2024-03-18T11:29:40.854771Z"
    }
   },
   "id": "b19ca0cfcf534188",
   "execution_count": 38
  },
  {
   "cell_type": "code",
   "outputs": [
    {
     "data": {
      "text/plain": "0.7777777777777778"
     },
     "execution_count": 33,
     "metadata": {},
     "output_type": "execute_result"
    }
   ],
   "source": [
    "x_train, x_test, y_train, y_test = train_test_split(X, y, random_state=42, test_size=.2)\n",
    "\n",
    "pipe = Pipeline([('scaler', StandardScaler()), ('svc', SVC(kernel='rbf', C=10))])\n",
    "pipe.fit(x_train, y_train)\n",
    "pipe.score(x_test, y_test)"
   ],
   "metadata": {
    "collapsed": false,
    "ExecuteTime": {
     "end_time": "2024-03-18T11:10:50.034747Z",
     "start_time": "2024-03-18T11:10:49.928270Z"
    }
   },
   "id": "c1c209c8ec65dd45",
   "execution_count": 33
  },
  {
   "cell_type": "code",
   "outputs": [
    {
     "name": "stdout",
     "output_type": "stream",
     "text": [
      "              precision    recall  f1-score   support\n",
      "\n",
      "           0       0.88      0.70      0.78        10\n",
      "           1       0.89      0.80      0.84        10\n",
      "           2       0.93      0.93      0.93        15\n",
      "           3       0.60      0.75      0.67        12\n",
      "           4       0.57      0.57      0.57         7\n",
      "\n",
      "    accuracy                           0.78        54\n",
      "   macro avg       0.77      0.75      0.76        54\n",
      "weighted avg       0.79      0.78      0.78        54\n"
     ]
    }
   ],
   "source": [
    "print(classification_report(y_test, pipe.predict(x_test)))"
   ],
   "metadata": {
    "collapsed": false,
    "ExecuteTime": {
     "end_time": "2024-03-18T11:13:05.809437Z",
     "start_time": "2024-03-18T11:13:05.776764Z"
    }
   },
   "id": "17e70141d157d3ba",
   "execution_count": 35
  },
  {
   "cell_type": "code",
   "outputs": [],
   "source": [
    "model_params = {\n",
    "    'svm': {\n",
    "        'model': SVC(gamma='auto', probability=True),\n",
    "        'params': {\n",
    "            'svc__C': [1, 10, 100, 1000],\n",
    "            'svc__kernel': ['rbf', 'linear']\n",
    "        }\n",
    "    },\n",
    "    'log_reg': {\n",
    "        'model': LogisticRegression(solver='liblinear', multi_class='auto'),\n",
    "        'params': {\n",
    "            'logisticregression__C': [1, 5, 10]  # Adjusted parameter name\n",
    "        }\n",
    "    },\n",
    "    'forest': {\n",
    "        'model': RandomForestClassifier(),\n",
    "        'params': {\n",
    "            'randomforestclassifier__n_estimators': [1, 5, 10]\n",
    "        }\n",
    "    }\n",
    "}\n"
   ],
   "metadata": {
    "collapsed": false,
    "ExecuteTime": {
     "end_time": "2024-03-18T11:34:19.500700Z",
     "start_time": "2024-03-18T11:34:19.493512Z"
    }
   },
   "id": "56f10b72aa297ad8",
   "execution_count": 42
  },
  {
   "cell_type": "code",
   "outputs": [
    {
     "data": {
      "text/plain": "     model  best_score                                   best_params\n0      svm    0.840975        {'svc__C': 1, 'svc__kernel': 'linear'}\n1  log_reg    0.827021                  {'logisticregression__C': 1}\n2   forest    0.644297  {'randomforestclassifier__n_estimators': 10}",
      "text/html": "<div>\n<style scoped>\n    .dataframe tbody tr th:only-of-type {\n        vertical-align: middle;\n    }\n\n    .dataframe tbody tr th {\n        vertical-align: top;\n    }\n\n    .dataframe thead th {\n        text-align: right;\n    }\n</style>\n<table border=\"1\" class=\"dataframe\">\n  <thead>\n    <tr style=\"text-align: right;\">\n      <th></th>\n      <th>model</th>\n      <th>best_score</th>\n      <th>best_params</th>\n    </tr>\n  </thead>\n  <tbody>\n    <tr>\n      <th>0</th>\n      <td>svm</td>\n      <td>0.840975</td>\n      <td>{'svc__C': 1, 'svc__kernel': 'linear'}</td>\n    </tr>\n    <tr>\n      <th>1</th>\n      <td>log_reg</td>\n      <td>0.827021</td>\n      <td>{'logisticregression__C': 1}</td>\n    </tr>\n    <tr>\n      <th>2</th>\n      <td>forest</td>\n      <td>0.644297</td>\n      <td>{'randomforestclassifier__n_estimators': 10}</td>\n    </tr>\n  </tbody>\n</table>\n</div>"
     },
     "execution_count": 43,
     "metadata": {},
     "output_type": "execute_result"
    }
   ],
   "source": [
    "scores = []\n",
    "best_estimator = {}\n",
    "\n",
    "for alf, md in model_params.items():\n",
    "    pipe = make_pipeline(StandardScaler(), md['model'])\n",
    "    clf = GridSearchCV(pipe, md['params'], cv=5, return_train_score=False)\n",
    "    clf.fit(x_train, y_train)\n",
    "    scores.append({\n",
    "        'model': alf,\n",
    "        'best_score': clf.best_score_,\n",
    "        'best_params': clf.best_params_\n",
    "    })\n",
    "    best_estimator[alf] = clf.best_estimator_\n",
    "    \n",
    "df = pd.DataFrame(scores, columns=['model', 'best_score', 'best_params'])\n",
    "df"
   ],
   "metadata": {
    "collapsed": false,
    "ExecuteTime": {
     "end_time": "2024-03-18T11:34:40.833192Z",
     "start_time": "2024-03-18T11:34:21.254566Z"
    }
   },
   "id": "36b3bce553688c6d",
   "execution_count": 43
  },
  {
   "cell_type": "code",
   "outputs": [
    {
     "data": {
      "text/plain": "0.8333333333333334"
     },
     "execution_count": 44,
     "metadata": {},
     "output_type": "execute_result"
    }
   ],
   "source": [
    "best_estimator['svm'].score(x_test, y_test)"
   ],
   "metadata": {
    "collapsed": false,
    "ExecuteTime": {
     "end_time": "2024-03-18T11:36:32.194939Z",
     "start_time": "2024-03-18T11:36:32.168935Z"
    }
   },
   "id": "e2387d6cedd63fb7",
   "execution_count": 44
  },
  {
   "cell_type": "code",
   "outputs": [
    {
     "data": {
      "text/plain": "0.8703703703703703"
     },
     "execution_count": 46,
     "metadata": {},
     "output_type": "execute_result"
    }
   ],
   "source": [
    "best_estimator['log_reg'].score(x_test, y_test)"
   ],
   "metadata": {
    "collapsed": false,
    "ExecuteTime": {
     "end_time": "2024-03-18T11:37:38.300604Z",
     "start_time": "2024-03-18T11:37:38.287127Z"
    }
   },
   "id": "7695ba710a8a7e51",
   "execution_count": 46
  },
  {
   "cell_type": "code",
   "outputs": [
    {
     "data": {
      "text/plain": "0.5370370370370371"
     },
     "execution_count": 45,
     "metadata": {},
     "output_type": "execute_result"
    }
   ],
   "source": [
    "best_estimator['forest'].score(x_test, y_test)"
   ],
   "metadata": {
    "collapsed": false,
    "ExecuteTime": {
     "end_time": "2024-03-18T11:37:36.761015Z",
     "start_time": "2024-03-18T11:37:36.739550Z"
    }
   },
   "id": "b4d250bef9fb5120",
   "execution_count": 45
  }
 ],
 "metadata": {
  "kernelspec": {
   "display_name": "Python 3",
   "language": "python",
   "name": "python3"
  },
  "language_info": {
   "codemirror_mode": {
    "name": "ipython",
    "version": 2
   },
   "file_extension": ".py",
   "mimetype": "text/x-python",
   "name": "python",
   "nbconvert_exporter": "python",
   "pygments_lexer": "ipython2",
   "version": "2.7.6"
  }
 },
 "nbformat": 4,
 "nbformat_minor": 5
}
